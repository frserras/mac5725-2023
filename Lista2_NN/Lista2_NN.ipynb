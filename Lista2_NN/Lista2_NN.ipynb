{
  "cells": [
    {
      "cell_type": "markdown",
      "metadata": {
        "id": "G1ivCcAyJxSj"
      },
      "source": [
        "<img src=\"https://raw.githubusercontent.com/alan-barzilay/NLPortugues/master/imagens/logo_nlportugues.png\"   width=\"150\" align=\"right\">\n",
        "\n",
        "\n",
        "# Lista 2 - NN & Backpropagation\n"
      ]
    },
    {
      "cell_type": "markdown",
      "metadata": {
        "id": "5EbG7paYJ-sT"
      },
      "source": [
        "\n",
        "_________________________________________\n",
        "\n",
        "Antes de começar o exercício,  não se esqueça de instalar todos os pacotes necessários para a sua execução.  "
      ]
    },
    {
      "cell_type": "code",
      "execution_count": null,
      "metadata": {
        "id": "hF9mL2iuJxSl"
      },
      "outputs": [],
      "source": [
        "import tensorflow as tf\n",
        "import pandas as pd\n",
        "import numpy as np\n",
        "import matplotlib.pyplot as plt\n",
        "import seaborn as sns\n",
        "from tensorflow import keras\n",
        "from sklearn.model_selection import train_test_split\n",
        "SEED=152416\n",
        "%matplotlib inline\n",
        "tf.__version__"
      ]
    },
    {
      "cell_type": "markdown",
      "metadata": {
        "id": "4U58nHrAJxSn"
      },
      "source": [
        "# <font color='blue'>Questão 1 - Perceptron </font>\n",
        "\n",
        "O perceptron é uma \"rede neural\" de um só neurônio.  No nosso caso, temos a rede mais simples possível, com uma só entrada e uma só saída, sem ativação.\n",
        "\n",
        "Temos 100 dados que serão usados para treinar 300 épocas do percéptron.\n",
        "\n",
        "Vamos utilizar o modelo percéptron para aprender uma simples regressão linear, o objetivo é faze-lo aprender uma simples equação linear e tambem se acostumar com a sintaxe e funcionamento do TensorFlow\n",
        "\n",
        "Complete a parte indicada, de forma a implementar um perceptron, ou seja, um modelo que recebe um único valor como entrada, passando por uma única camada interna formada de apenas uma unidade, sem função de ativação.\n"
      ]
    },
    {
      "cell_type": "code",
      "execution_count": null,
      "metadata": {
        "id": "YElbceStJxSn"
      },
      "outputs": [],
      "source": [
        "def f1(x):\n",
        "    '''\n",
        "    Funcao a ser aprendida\n",
        "    '''\n",
        "    return 5 + 10*x"
      ]
    },
    {
      "cell_type": "code",
      "execution_count": null,
      "metadata": {
        "id": "JDqMORncJxSo"
      },
      "outputs": [],
      "source": [
        "xs = np.linspace(0,10,100)  # gera 100 valores no intervalo [0.10]\n",
        "ys = f1(xs)                 # computa o valor de f1 nestes 100 valores\n",
        "print(len(xs), \"xs=\", xs)\n",
        "print(len(ys), \"ys=\", ys)"
      ]
    },
    {
      "cell_type": "code",
      "execution_count": null,
      "metadata": {
        "id": "0FPmfqsRJxSp",
        "scrolled": true
      },
      "outputs": [],
      "source": [
        "#Definindo, compilando e treinando nosso modelo\n",
        "model = tf.keras.Sequential([\n",
        "    ## Seu código aqui\n",
        "])\n",
        "\n",
        "model.compile(optimizer=\"sgd\", loss=\"mean_squared_error\")\n",
        "model.fit(xs,ys,epochs=300)"
      ]
    },
    {
      "cell_type": "code",
      "execution_count": null,
      "metadata": {
        "id": "zdsiTFO0JxSq"
      },
      "outputs": [],
      "source": [
        "model.summary()"
      ]
    },
    {
      "cell_type": "code",
      "execution_count": null,
      "metadata": {
        "id": "v5cRyAL1JxSq"
      },
      "outputs": [],
      "source": [
        "print(\"prediction: \"+ str(model.predict([17]))+\"      real value: \" + str(f1(17)))"
      ]
    },
    {
      "cell_type": "code",
      "execution_count": null,
      "metadata": {
        "id": "bvxWgdGoJxSr"
      },
      "outputs": [],
      "source": [
        "val = np.linspace(0,10,63)\n",
        "model.evaluate(x=val, y=f1(val))"
      ]
    },
    {
      "cell_type": "markdown",
      "metadata": {
        "id": "Bf9tyPeOJxSs"
      },
      "source": [
        "A função `evaluate` retorna o \"custo\" (loss) da avaliação, definido na compilação.  Nesse caso, o valor reportado é o erro quadrático médio (MSE)."
      ]
    },
    {
      "cell_type": "markdown",
      "metadata": {
        "id": "SYIHWLNKJxSz"
      },
      "source": [
        "# Prevendo se vai chover na Austrália\n",
        "\n",
        "Os próximos exercícios são, em grande parte, uma tradução e adaptação para o português brasileiro do tutorial intitulado [Build Your First Neural Network with Pytorch](https://curiousily.com/posts/build-your-first-neural-network-with-pytorch/)\n",
        " entretanto algumas adaptações foram realizadas, tanto no texto, quanto no código, em relação à versão original para utilizar a biblioteca TensorFlow.\n",
        "\n",
        "Aqui você aprenderá como implementar, treinar e utilizar uma Rede Neural *Feed-Foward* simples para uma tarefa de classificação binária.\n",
        "\n",
        "Para tal, utilizaremos o pacote [TensorFlow 2.0](www.tensorflow.org) que é, atualmente, uma das principais ferramentas para a implementação de modelos neurais viáveis.\n",
        "\n",
        "A tarefa que usaremos para fins de exemplo será a de prever se choverá ou não numa cidade australiana amanhã, utilizando dados meteorológicos mensurados na mesma cidade no dia de hoje. A redução dessa tarefa de previsão a uma classificação binária é, evidentemente, uma grande simplificação do problema real de previsão meteorológica, mas como veremos, ainda pode apresentar resultados interessantes, além do caráter didático.\n",
        "\n",
        "\n",
        "\n",
        "As informações que utilizaremos para treinar nosso modelo para a tarefa de previsão de chuvas estão contidas num conjunto que reúne dados meteorológicos de diversas cidades australianas. Esse conjunto de dados foi curado e disponibilizado através do [Kaggle](https://www.kaggle.com/jsphyg/weather-dataset-rattle-package) por [Joe Young](https://www.kaggle.com/jsphyg).\n",
        "\n"
      ]
    },
    {
      "cell_type": "code",
      "execution_count": null,
      "metadata": {
        "id": "LcJL3ba5WnDl"
      },
      "outputs": [],
      "source": [
        "!mkdir data"
      ]
    },
    {
      "cell_type": "code",
      "execution_count": null,
      "metadata": {
        "id": "SpUaQLuKXGJK"
      },
      "outputs": [],
      "source": [
        "# Baixando os dados:\n",
        "!curl https://raw.githubusercontent.com/alan-barzilay/NLPortugues/master/Semana%2002/data/weatherAUS.csv --output 'data/weatherAUS.csv'"
      ]
    },
    {
      "cell_type": "markdown",
      "metadata": {
        "id": "XiS7Hc97Tn9s"
      },
      "source": [
        "Os dados estão no formato `.csv` e, com eles em mãos, o primeiro passo é carregá-los em um *data-frame*, usando a função [`pd.read_csv()`](https://pandas.pydata.org/pandas-docs/stable/reference/api/pandas.read_csv.html) do *pandas*.\n",
        "\n",
        "\n",
        "Com os dados carregados, é possível averiguar que eles são constituídos por 142193 entradas, cada uma contando com 24 variáveis distintas. É possível notar, também, que existem entradas para as quais nem todas as variáveis estão  instanciadas. Além disso, nem todos os valores estão nos formatos que gostaríamos que estivessem para serem processados.\n",
        "\n",
        "Isso é normal. Dados reais são cheios de falhas e problemas, e exigem trabalho e entendimento para serem utilizados da maneira correta. Por isso, é necessário realizar um **pré-processamento** para adequar os dados, antes de os passarmos para o modelo.\n",
        "\n",
        "O primeiro passo é escolher quais das variáveis meteorológicas nos interessam. No nosso caso, queremos prever se choverá ou não amanhã, então `RainTomorrow` será nossa variável alvo. Para prevê-la usaremos as variáveis  `Rainfall`, `Humidity3pm`, `Pressure9am` e `RainToday`, que serão nossas *features*.\n",
        "\n",
        "\n",
        "\n",
        "Em seguida, iniciamos o pré-processamento, propriamente dito.\n",
        "\n",
        "As variáveis `RainToday` e `RainTomorrow` possuem dois valores possíveis, *Yes* e *No*. Adeque esses valores, convertendo-os para $1$ e $0$, respectivamente.\n",
        "\n",
        "\n",
        "\n",
        "\n",
        "A seguir, remova todas as entradas que não tenham instanciado os valores de todas as variáveis de interesse com a função [`dropna()`](https://pandas.pydata.org/pandas-docs/stable/reference/api/pandas.DataFrame.dropna.html), pois essas entradas são inúteis para treinar nosso modelo.\n",
        "\n",
        "\n",
        "\n",
        "Com os dados pré-processados, é possível, agora, plotar as distribuições das variáveis de interesse para poder entender melhor como essas distribuições funcionam. Esse tipo de trabalho é muito importante na implementação real de redes neurais, conhecer os dados é fundamental para tirar o maior proveito do seu modelo e entender verdadeiramente seus resultados.\n",
        "\n"
      ]
    },
    {
      "cell_type": "markdown",
      "metadata": {
        "id": "awiT8tbUQmER"
      },
      "source": [
        "\n",
        "![image.png](data:image/png;base64,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)\n"
      ]
    },
    {
      "cell_type": "markdown",
      "metadata": {
        "id": "cay4UNFYTjZU"
      },
      "source": [
        "\n",
        "Dentre todas as distribuições das variáveis de interesse, a que mais nos concerne é a da variável alvo, `RainTomorrow`, representada na figura acima.\n",
        "\n",
        "\n",
        "Essa distribuição nos revela um grande desbalanço entre os dois valores possíveis dessa variável, que constituirão as duas classes do nosso problema de classificação. Esse é um dado importante, pois pode influenciar significativamente a capacidade preditiva do modelo treinado.\n",
        "\n",
        "Existem maneiras de se lidar com o desbalanceamento dos dados, mas nesse tutorial utilizaremos os dados dessa forma. Isso significa que o *baseline* para a performance do nosso modelo deve ser $78\\%$, isso porque, se um modelo chutasse que amanhã não irá chover, todas as vezes, ele obteria uma performance dessa ordem e, como esperamos gerar um modelo mais \"inteligente\" que isso, esperamos também que a a nossa performance seja superior a essa.\n",
        "\n",
        "Todo o código referente a esse pré-processamento deve ser escrito pelo próprio aluno seguindo o esqueleto das funções presentes no notebook. Para agilizar a exploração dos dados nós já fornecemos a implementação da função `visualize_data()` que plota visualizações para as distribuições das variáveis de interesse."
      ]
    },
    {
      "cell_type": "code",
      "execution_count": null,
      "metadata": {
        "id": "BZEbIjnPJxSz"
      },
      "outputs": [],
      "source": [
        "def visualize_data(data):\n",
        "    \"\"\"Gera graficos das distribuicoes das features\"\"\"\n",
        "\n",
        "    ibm_pltt = ['#648FFF', '#785EF0', '#DC267F',\n",
        "                '#FE6100', '#FFB000']  # Paleta colorblind-friendly\n",
        "\n",
        "    # RainToday:\n",
        "    sns.set()\n",
        "    sns.set_palette(sns.color_palette([ibm_pltt[2], ibm_pltt[0]]))\n",
        "    sns.countplot(x=data.RainToday)\n",
        "    plt.xlabel('Choveu Hoje?')\n",
        "    plt.ylabel('Contagem')\n",
        "    plt.title(\"Valores de 'RainToday' para os dados pré-processados\")\n",
        "    plt.show()\n",
        "\n",
        "    # RainTomorrow:\n",
        "    sns.set()\n",
        "    sns.set_palette(sns.color_palette([ibm_pltt[3], ibm_pltt[1]]))\n",
        "    sns.countplot(x=data.RainTomorrow)\n",
        "    plt.xlabel('Choverá Amanhã?')\n",
        "    plt.ylabel('Contagem')\n",
        "    plt.title(\"Valores de 'RainTomorrow' para os dados pré-processados\")\n",
        "    plt.show()\n",
        "\n",
        "    # Humidity3pm:\n",
        "    sns.set()\n",
        "    sns.displot(data.Humidity3pm, color=ibm_pltt[0], stat='density', kde=True)\n",
        "    plt.xlabel('Umidade às 3PM')\n",
        "    plt.ylabel('Densidade normalizada')\n",
        "    plt.title(\"Distribuição da variável 'Humidity3pm' para os dados pré-processados\")\n",
        "    plt.show()\n",
        "\n",
        "    # Pressure9am:\n",
        "    sns.set()\n",
        "    sns.displot(data.Pressure9am, color=ibm_pltt[4], stat='density', kde=True)\n",
        "    plt.xlabel('Pressão atmosférica às 9AM')\n",
        "    plt.ylabel('Densidade normalizada')\n",
        "    plt.title(\"Distribuição da variável 'Pressure9amm' para os dados pré-processados\")\n",
        "    plt.show()\n",
        "\n",
        "    # Rainfall:\n",
        "    sns.set()\n",
        "    sns.histplot(data.Rainfall, color=ibm_pltt[1], bins=500, kde=False)\n",
        "    plt.xlim(0, 10)\n",
        "    plt.xlabel('Pluviosidade')\n",
        "    plt.ylabel('Densidade normalizada')\n",
        "    plt.title(\"Distribuição da variável 'Rainfall' para os dados pré-processados\")\n",
        "    plt.show()\n",
        "\n",
        "    return\n"
      ]
    },
    {
      "cell_type": "markdown",
      "metadata": {
        "id": "1O_WugijJxSz"
      },
      "source": [
        "## Pré processamento dos dados\n",
        "Já definimos uma função basica para lhe ajudar a explorar os dados, você precisará escrever uma função para carregar os dados, uma de pré-processamento e outra para fazer a separação em teste e treino."
      ]
    },
    {
      "cell_type": "markdown",
      "metadata": {
        "id": "bk6JHolSJxSz"
      },
      "source": [
        "# <font color='blue'>Questão 2 </font>\n",
        "Complete as funções aqui descritas seguindo a assinatura sugerida\n",
        "\n",
        "Para separar em treino e teste, de uma olhada na função [train_test_split()](https://scikit-learn.org/stable/modules/generated/sklearn.model_selection.train_test_split.html) do Scikit-Learn"
      ]
    },
    {
      "cell_type": "code",
      "execution_count": null,
      "metadata": {
        "id": "gI5ggHUlJxS0"
      },
      "outputs": [],
      "source": [
        "def load_data(data_path='data/weatherAUS.csv')-> pd.DataFrame:\n",
        "    \"\"\"Funcao que importa dados de um arquivo csv, usando pandas\"\"\"\n",
        "    # Insira seu código aqui\n",
        "\n",
        "    return raw_data\n",
        "\n",
        "def pre_processing(raw_data:pd.DataFrame)-> pd.DataFrame:\n",
        "    \"\"\"Funcao que filtra e limpa os dados meteorologicos para o treinamento\"\"\"\n",
        "    # Insira seu código aqui\n",
        "\n",
        "    return processed_data\n",
        "\n",
        "\n",
        "def split_data(data:pd.DataFrame, val_size= 0.2)-> np.array:\n",
        "    \"\"\"Funcao que separa seus dados em teste e treino conforme a proporcao val_size\"\"\"\n",
        "    \"\"\"Use a variável global SEED como semente para a divisão aleatória\"\"\"\n",
        "    # Insira seu código aqui\n",
        "\n",
        "    return x_train, x_val, y_train, y_val\n"
      ]
    },
    {
      "cell_type": "code",
      "execution_count": null,
      "metadata": {
        "id": "ytKb1DlsJxS0"
      },
      "outputs": [],
      "source": [
        "df = load_data()\n",
        "df = pre_processing(df)\n",
        "visualize_data(df)\n",
        "x_train, x_val, y_train, y_val = split_data(df,)"
      ]
    },
    {
      "cell_type": "markdown",
      "metadata": {
        "id": "2F0iWfJYJxS0"
      },
      "source": [
        "# <font color='blue'>Questão 3 </font>\n",
        "Agora que você ja ganhou uma familiaridade com a API Keras, escreva sozinho do começo ao fim um modelo que ira dizer se amanhã vai chover ou não e avalie sua performance, usando os datasets de treinamento e testes criados anteriormente.\n",
        "\n",
        "**Atente-se à rede exigida: Ela deve conter duas camadas ocultas, a primeira com 5 unidades e a segunda com 3 unidades. A função de ativação das camadas ocultas deve ser ReLU e a da última camada deve ser uma sigmoide. No treinamento você deve usar o otimizador adam e a função de custo deve ser a \"binary_crossentropy\". Treine o modleo por 20 épocas. Você pode adicionar o argumento ```metrics=[\"binary_accuracy\"]``` à compilação do modelo para visualizar a evolução da acurácia ao longo do treinamento.**\n"
      ]
    },
    {
      "cell_type": "code",
      "execution_count": null,
      "metadata": {
        "id": "loD7lw_tJxS1"
      },
      "outputs": [],
      "source": [
        "tf.random.set_seed(SEED)\n",
        "\n",
        "# Construa o modelo aqui\n",
        "\n",
        "# Treine o modelo aqui"
      ]
    },
    {
      "cell_type": "code",
      "source": [
        "# Avalie o modelo aqui"
      ],
      "metadata": {
        "id": "_mxSszAjIWRE"
      },
      "execution_count": null,
      "outputs": []
    }
  ],
  "metadata": {
    "colab": {
      "provenance": []
    },
    "kernelspec": {
      "display_name": ".venv_tutorial",
      "language": "python",
      "name": ".venv_tutorial"
    },
    "language_info": {
      "codemirror_mode": {
        "name": "ipython",
        "version": 3
      },
      "file_extension": ".py",
      "mimetype": "text/x-python",
      "name": "python",
      "nbconvert_exporter": "python",
      "pygments_lexer": "ipython3",
      "version": "3.8.5"
    }
  },
  "nbformat": 4,
  "nbformat_minor": 0
}